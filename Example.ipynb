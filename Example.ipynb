{
  "nbformat": 4,
  "nbformat_minor": 0,
  "metadata": {
    "colab": {
      "provenance": [],
      "gpuType": "T4",
      "authorship_tag": "ABX9TyOJsDaQzlOZFAPS//Tc5BNo",
      "include_colab_link": true
    },
    "kernelspec": {
      "name": "python3",
      "display_name": "Python 3"
    },
    "language_info": {
      "name": "python"
    },
    "accelerator": "GPU"
  },
  "cells": [
    {
      "cell_type": "markdown",
      "metadata": {
        "id": "view-in-github",
        "colab_type": "text"
      },
      "source": [
        "<a href=\"https://colab.research.google.com/github/jackykang061233/youtube_summary/blob/main/Example.ipynb\" target=\"_parent\"><img src=\"https://colab.research.google.com/assets/colab-badge.svg\" alt=\"Open In Colab\"/></a>"
      ]
    },
    {
      "cell_type": "markdown",
      "source": [
        "# install packages"
      ],
      "metadata": {
        "id": "OIwXUSi-eEWZ"
      }
    },
    {
      "cell_type": "code",
      "source": [
        "!git clone https://github.com/jackykang061233/youtube_summary.git"
      ],
      "metadata": {
        "id": "b-Hr-S0CEMN9"
      },
      "execution_count": null,
      "outputs": []
    },
    {
      "cell_type": "code",
      "source": [
        "!pip install cython"
      ],
      "metadata": {
        "colab": {
          "base_uri": "https://localhost:8080/"
        },
        "id": "1GDhuJP3afSt",
        "outputId": "f4df4cf0-f39c-4e6c-c790-6025ba8bf0a8"
      },
      "execution_count": 2,
      "outputs": [
        {
          "output_type": "stream",
          "name": "stdout",
          "text": [
            "Requirement already satisfied: cython in /usr/local/lib/python3.10/dist-packages (3.0.8)\n"
          ]
        }
      ]
    },
    {
      "cell_type": "code",
      "source": [
        "!sudo apt update && sudo apt install ffmpeg"
      ],
      "metadata": {
        "id": "puGMaY91alOB"
      },
      "execution_count": null,
      "outputs": []
    },
    {
      "cell_type": "code",
      "source": [
        "%cd youtube_summary"
      ],
      "metadata": {
        "id": "aLpztiwUarZS"
      },
      "execution_count": null,
      "outputs": []
    },
    {
      "cell_type": "code",
      "source": [
        "!pip install -r requirements.txt"
      ],
      "metadata": {
        "id": "9X92S2rOa-p7"
      },
      "execution_count": null,
      "outputs": []
    },
    {
      "cell_type": "markdown",
      "source": [
        "# run the code (don't forget to give the openai api key)"
      ],
      "metadata": {
        "id": "fJ2sbnYGeLxV"
      }
    },
    {
      "cell_type": "code",
      "source": [
        "!python3 main.py https://www.youtube.com/watch?v=UszYKUxaJys openai-api-key"
      ],
      "metadata": {
        "id": "ilnXT6CUbD27"
      },
      "execution_count": null,
      "outputs": []
    },
    {
      "cell_type": "code",
      "source": [],
      "metadata": {
        "id": "iNylC8PJcxJ2"
      },
      "execution_count": null,
      "outputs": []
    }
  ]
}